{
  "nbformat": 4,
  "nbformat_minor": 0,
  "metadata": {
    "colab": {
      "name": "Project 2.ipynb",
      "provenance": [],
      "collapsed_sections": []
    },
    "kernelspec": {
      "name": "python3",
      "display_name": "Python 3"
    },
    "language_info": {
      "name": "python"
    }
  },
  "cells": [
    {
      "cell_type": "code",
      "metadata": {
        "id": "lOnERCvWnPDD"
      },
      "source": [
        "import numpy as np\n",
        "import matplotlib.pyplot as plt"
      ],
      "execution_count": 10,
      "outputs": []
    },
    {
      "cell_type": "markdown",
      "metadata": {
        "id": "RinOLdF-mtVj"
      },
      "source": [
        "**Task 1**"
      ]
    },
    {
      "cell_type": "code",
      "metadata": {
        "id": "wsD1zYtCmn8C"
      },
      "source": [
        "# generate a vector of random numbers which obeys the given distribution.\n",
        "#\n",
        "# n: length of the vector\n",
        "# mu: mean value\n",
        "# sigma: standard deviation.\n",
        "# dist: choices for the distribution, you need to implement at least normal \n",
        "#       distribution and uniform distribution.\n",
        "#\n",
        "# For normal distribution, you can use ``numpy.random.normal`` to generate.\n",
        "# For uniform distribution, the interval to sample will be [mu - sigma/sqrt(3), mu + sigma/sqrt(3)].\n",
        "\n",
        "import numpy as np\n",
        "\n",
        "def generate_random_numbers(n, mu, sigma, dist=\"normal\"):\n",
        "    # write your code here\n",
        "    if dist == \"normal\":\n",
        "        return np.random.normal(mu, sigma, n)\n",
        "    elif dist == \"uniform\":\n",
        "        # write your code here.\n",
        "        return np.random.uniform(mu - sigma/np.sqrt(3), mu + sigma/np.sqrt(3), n)\n",
        "    else:\n",
        "        raise Exception(\"The distribution {unknown_dist} is not implemented\".format(unknown_dist=dist))\n",
        "\n",
        "\n",
        "# Creating y1 and y2\n",
        "y1 = generate_random_numbers(105, 0.5, 1.0, \"normal\")\n",
        "y2 = generate_random_numbers(105, 0.5, 1.0, \"uniform\")"
      ],
      "execution_count": 11,
      "outputs": []
    },
    {
      "cell_type": "code",
      "metadata": {
        "id": "6fmLLHgGnVIP"
      },
      "source": [
        "# Define the objective function\n",
        "def objective_f1(x,y):\n",
        "    x_v = np.ones(len(y))*x\n",
        "    s = sum(np.square(x_v-y)) /2\n",
        "    return s\n",
        "\n",
        "# IGD, the ordering is permitted to have replacement. \n",
        "def IGD_wr_task1(y):\n",
        "    n = len(y)\n",
        "    ordering = np.random.choice(n, n, replace=True)\n",
        "\n",
        "    x = np.ndarray(n+1)\n",
        "    x[0] = 0\n",
        "    obj_f = np.ndarray(n)\n",
        "    for k in range(n):\n",
        "        gamma = 1/(k+1)\n",
        "        x[k+1] = x[k] - gamma*(x[k]-y[ordering[k]])\n",
        "        obj_f[k] = objective_f1(x[k+1],y) # objective function\n",
        "    return x[-1], obj_f\n",
        "\n",
        "\n",
        "# IGD, the ordering is not permitted to have replacement.\n",
        "def IGD_wo_task1(y):\n",
        "    n = len(y)\n",
        "    ordering = np.random.choice(n, n, replace=False)\n",
        "   \n",
        "    x = np.ndarray(n+1)\n",
        "    x[0] = 0\n",
        "    obj_f = np.ndarray(n)\n",
        "    for k in range(n):\n",
        "        gamma = 1/(k+1)\n",
        "        x[k+1] = x[k] - gamma*(x[k]-y[ordering[k]])\n",
        "        obj_f[k] = objective_f1(x[k+1],y) # objective function\n",
        "    return x[-1], obj_f"
      ],
      "execution_count": 12,
      "outputs": []
    },
    {
      "cell_type": "code",
      "metadata": {
        "colab": {
          "base_uri": "https://localhost:8080/",
          "height": 344
        },
        "id": "rhs6BPu0n0dI",
        "outputId": "07e32258-0d69-4846-94cc-4b02e6640a20"
      },
      "source": [
        "# Plot\n",
        "\n",
        "xr1, hr1 = IGD_wr_task1(y1)\n",
        "xo1, ho1 = IGD_wo_task1(y1)\n",
        "xr2, hr2 = IGD_wr_task1(y2)\n",
        "xo2, ho2 = IGD_wo_task1(y2)\n",
        "\n",
        "print(\"Optimal Value\")\n",
        "print(f\"With-Replacement: {xr1:.2f}\")\n",
        "print(f\"Without-Replacement: {xo1:.2f}\")\n",
        "print(f\"With-Replacement: {xr2:.2f}\")\n",
        "print(f\"Without-Replacement: {xo2:.2f}\")\n",
        "\n",
        "figure_11 = plt.subplot(1,2,1)\n",
        "plt.plot(hr1, label = \"y1 w/ replacement\")\n",
        "plt.plot(ho1, label = \"y1 w/o replacement\")\n",
        "plt.legend(loc=9)\n",
        "plt.title(\"y1\")\n",
        "plt.xlabel(\"Iteration\")\n",
        "plt.ylabel(\"Objective Function\")\n",
        "\n",
        "figure_12 = plt.subplot(1,2,2)\n",
        "plt.plot(hr2, label = \"y2 w/ replacement\")\n",
        "plt.plot(ho2, label = \"y2 w/o replacement\")\n",
        "plt.legend(loc=9)\n",
        "plt.title(\"y2\")\n",
        "plt.xlabel(\"Iteration\")\n",
        "plt.ylabel(\"Objective Function\")\n",
        "\n",
        "plt.tight_layout(pad=3)\n",
        "plt.show()"
      ],
      "execution_count": 13,
      "outputs": [
        {
          "output_type": "stream",
          "name": "stdout",
          "text": [
            "Optimal Value\n",
            "With-Replacement: 0.35\n",
            "Without-Replacement: 0.45\n",
            "With-Replacement: 0.42\n",
            "Without-Replacement: 0.45\n"
          ]
        },
        {
          "output_type": "display_data",
          "data": {
            "image/png": "[encoded data removed]",
            "text/plain": [
              "<Figure size 432x288 with 2 Axes>"
            ]
          },
          "metadata": {
            "needs_background": "light"
          }
        }
      ]
    },
    {
      "cell_type": "markdown",
      "metadata": {
        "id": "5o6_7ut5s_rY"
      },
      "source": [
        "**Task 1 Results**\\\n",
        "From the plots of the two settings above, for a fixed vector $y$, the strategy of random ordering without replacement is better as it converges to a fixed value faster.\n",
        "\n",
        "Given $x_0 = 0$ and $x_{k+1} = x_k-γ_k (x_k-y_{i_k})$ with $\\gamma_k = \\frac{1}{k+1}$. We have\n",
        "\\begin{align*}\n",
        "x_1 &= x_0 + \\frac{1}{1} y_{i_1} = y_{i_1}\\\\\n",
        "x_2 &= x_1 + \\frac{1}{2} (x_1 - y_{i_2}) = \\frac{1}{2} (y_{i_1}+y_{i_2})\\\\\n",
        "x_3 &= x_2 + \\frac{1}{3} (x_2 - y_{i_3}) = \\frac{1}{3} (y_{i_1}+y_{i_2}+y_{i_3})\\\\\n",
        "x_4 &= x_3 + \\frac{1}{4} (x_3 - y_{i_4}) = \\frac{1}{4} (y_{i_1}+y_{i_2}+y_{i_3}+y_{i_1})\\\\\n",
        "&\\vdots\\\\\n",
        "x_n &= \\frac{1}{n} ∑_{j=1}^n y_{i_j} \\quad\\Longrightarrow\\quad \\mu_y\n",
        "\\end{align*}\n",
        "Thus, ``IGD_wo_task1`` must converge to the true solution ($\\mu_y$)."
      ]
    },
    {
      "cell_type": "markdown",
      "metadata": {
        "id": "3LdA0PY8ukpX"
      },
      "source": [
        "**Task 2**"
      ]
    },
    {
      "cell_type": "code",
      "metadata": {
        "id": "xSQ2_sGtqNN9"
      },
      "source": [
        "# Define the objective function\n",
        "def objective_f2(x,y,beta):\n",
        "    s = sum(beta) * ((x-y)**2)/2\n",
        "    return s\n",
        "\n",
        "# IGD, the ordering is permitted to have replacement.\n",
        "def IGD_wr_task2(y,beta):\n",
        "    n = len(beta)\n",
        "    ordering = np.random.choice(n, n, replace=True)\n",
        "    gamma = 0.95*min(np.ones(np.shape(beta))/beta)\n",
        "\n",
        "    x = np.ndarray(n+1)\n",
        "    x[0] = 0\n",
        "    obj_f = np.ndarray(n)\n",
        "    for k in range(n):\n",
        "        x[k+1] = x[k] - gamma*beta[ordering[k]]*(x[k]-y)\n",
        "        obj_f[k] = objective_f2(x[k+1],y,beta)\n",
        "    return x[-1], obj_f\n",
        "    # pass\n",
        "\n",
        "# IGD, the ordering is not permitted to have replacement.\n",
        "def IGD_wo_task2(y,beta):\n",
        "    n = len(beta)\n",
        "    ordering = np.random.choice(n, n, replace=False)\n",
        "    gamma = 0.95*min(np.ones(np.shape(beta))/beta)\n",
        "\n",
        "    x = np.ndarray(n+1)\n",
        "    x[0] = 0\n",
        "    obj_f = np.ndarray(n)\n",
        "    for k in range(n):\n",
        "        x[k+1] = x[k] - gamma*beta[ordering[k]]*(x[k]-y)\n",
        "        obj_f[k] = objective_f2(x[k+1],y,beta)\n",
        "    return x[-1], obj_f\n",
        "    # pass"
      ],
      "execution_count": 14,
      "outputs": []
    },
    {
      "cell_type": "code",
      "metadata": {
        "colab": {
          "base_uri": "https://localhost:8080/",
          "height": 346
        },
        "id": "W5xRXTh-vTz8",
        "outputId": "541351c8-e1ad-4f8d-b21e-6cd44dc6fbb0"
      },
      "source": [
        "# Plot\n",
        "\n",
        "# Define #iteration = n, weights = beta, and y values.\n",
        "y = 1\n",
        "n = 50\n",
        "beta = np.random.uniform(1,2,n)\n",
        "\n",
        "xr, hr = IGD_wr_task2(y,beta)\n",
        "xo, ho = IGD_wo_task2(y,beta)\n",
        "\n",
        "print(\"Optimal Value\")\n",
        "print(f\"With-Replacement: {xr:.2f}\")\n",
        "print(f\"Without-Replacement: {xo:.2f}\")\n",
        "\n",
        "figure_2 = plt.plot()\n",
        "plt.plot(hr, label = \"w/ replacement\")\n",
        "plt.plot(ho, label = \"w/o replacement\")\n",
        "plt.legend()\n",
        "plt.title(\"Least Square Problem with weights\")\n",
        "plt.xlabel(\"Iteration\")\n",
        "plt.ylabel(\"Objective Function\")\n",
        "\n",
        "plt.show()"
      ],
      "execution_count": 15,
      "outputs": [
        {
          "output_type": "stream",
          "name": "stdout",
          "text": [
            "Optimal Value\n",
            "With-Replacement: 1.00\n",
            "Without-Replacement: 1.00\n"
          ]
        },
        {
          "output_type": "display_data",
          "data": {
            "image/png": "[encoded data removed]",
            "text/plain": [
              "<Figure size 432x288 with 1 Axes>"
            ]
          },
          "metadata": {
            "needs_background": "light"
          }
        }
      ]
    },
    {
      "cell_type": "markdown",
      "metadata": {
        "id": "3udOPvkP3WtQ"
      },
      "source": [
        "**Task 2 Results**\\\n",
        "From the plot above, for a fixed value $y$, both strategies work approximately the same with respect to the same weights."
      ]
    },
    {
      "cell_type": "markdown",
      "metadata": {
        "id": "-24U3_T43056"
      },
      "source": [
        "**Tesk 3**"
      ]
    },
    {
      "cell_type": "code",
      "metadata": {
        "id": "_e3DOwfW3Wa0"
      },
      "source": [
        "# Generation of exact solution and data y and matrix A.\n",
        "def generate_problem_task3(m, n, rho):\n",
        "    A = np.random.normal(0., 1.0, (m, n))\n",
        "    x = np.random.random(n) # uniform in (0,1)\n",
        "    w = np.random.normal(0., rho, m)\n",
        "    y = A@x + w\n",
        "    return A, x, y\n",
        "\n",
        "# Generate the problem with 200x100 matrix. rho as 0.01.\n",
        "A, xstar, y = generate_problem_task3(200, 100, 0.01)"
      ],
      "execution_count": 16,
      "outputs": []
    },
    {
      "cell_type": "code",
      "metadata": {
        "id": "XTtEc6pi4F1c"
      },
      "source": [
        "# Define the objective function\n",
        "def objective_f3(A,x,y):\n",
        "    s = sum(np.square(A@x-y))\n",
        "    return s\n",
        "\n",
        "# IGD, the ordering is permitted to have replacement.\n",
        "def IGD_wr_task3(y, A):\n",
        "    m,n = A.shape\n",
        "    ordering = np.random.choice(m, m, replace=True)\n",
        "    gamma = 10**(-3)\n",
        "\n",
        "    x = np.zeros((n,m+1))\n",
        "    norm = obj_f = np.ndarray(m)\n",
        "    for k in range(m):\n",
        "        x[:,k+1] = x[:,k] - gamma*A[ordering[k]].T * (A[ordering[k]]@x[:,k]-y[ordering[k]])\n",
        "        obj_f[k] = objective_f3(A,x[:,k+1],y) # objective function\n",
        "\n",
        "        norm[k] = np.linalg.norm(x[:,k+1]-xstar,ord=2) # norm\n",
        "    return x, obj_f, norm\n",
        "    # pass\n",
        "\n",
        "# IGD, the ordering is not permitted to have replacement.\n",
        "def IGD_wo_task3(y, A):\n",
        "    m,n = A.shape\n",
        "    ordering = np.random.choice(m, m, replace=False)\n",
        "    gamma = 10**(-3)\n",
        "\n",
        "    x = np.zeros((n,m+1))\n",
        "    norm = obj_f = np.ndarray(m)\n",
        "    for k in range(m):\n",
        "        x[:,k+1] = x[:,k] - gamma*A[ordering[k]].T * (A[ordering[k]]@x[:,k]-y[ordering[k]])\n",
        "        obj_f[k] = objective_f3(A,x[:,k+1],y) # objective function\n",
        "\n",
        "        norm[k] = np.linalg.norm(x[:,k+1]-xstar,ord=2) # norm\n",
        "    return x, obj_f, norm\n",
        "    # pass"
      ],
      "execution_count": 17,
      "outputs": []
    },
    {
      "cell_type": "code",
      "metadata": {
        "colab": {
          "base_uri": "https://localhost:8080/",
          "height": 259
        },
        "id": "rYsEH7nh5dQF",
        "outputId": "b5322c3b-caf9-4e28-f061-aa1a24766cd6"
      },
      "source": [
        "# Plot\n",
        "\n",
        "xr, hr, nr = IGD_wr_task3(y,A)\n",
        "xo, ho, no = IGD_wo_task3(y,A)\n",
        "\n",
        "figure_31 = plt.subplot(1,2,1)\n",
        "plt.plot(hr, label = \"w/ replacement\")\n",
        "plt.plot(ho, label = \"w/o replacement\")\n",
        "plt.legend(loc=9)\n",
        "plt.xlabel(\"Iteration\")\n",
        "plt.ylabel(\"Objective Function\")\n",
        "\n",
        "figure_31 = plt.subplot(1,2,2)\n",
        "plt.plot(nr, label = \"w/ replacement\")\n",
        "plt.plot(no, label = \"w/o replacement\")\n",
        "plt.legend(loc=9)\n",
        "plt.xlabel(\"Iteration\")\n",
        "plt.ylabel(\"||x_k - x*||\")\n",
        "\n",
        "plt.tight_layout(pad=3)\n",
        "plt.show()"
      ],
      "execution_count": 18,
      "outputs": [
        {
          "output_type": "display_data",
          "data": {
            "image/png": "[encoded data removed]",
            "text/plain": [
              "<Figure size 432x288 with 2 Axes>"
            ]
          },
          "metadata": {
            "needs_background": "light"
          }
        }
      ]
    },
    {
      "cell_type": "markdown",
      "metadata": {
        "id": "rJ97X-OwKcbT"
      },
      "source": [
        "**Task 3 Result**\n",
        "From the plot above, the strategy of random ordering without replacement is better as the Error $||x_k-x^*||$ approaches 0 faster and is less than that of the strategy with replacement for most iterations.\n"
      ]
    }
  ]
}